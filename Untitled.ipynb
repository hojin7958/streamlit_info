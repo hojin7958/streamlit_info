{
 "cells": [
  {
   "cell_type": "code",
   "execution_count": 7,
   "id": "988db91e",
   "metadata": {},
   "outputs": [],
   "source": [
    "import os\n",
    "import datetime"
   ]
  },
  {
   "cell_type": "code",
   "execution_count": 10,
   "id": "c12587c0",
   "metadata": {},
   "outputs": [
    {
     "name": "stdout",
     "output_type": "stream",
     "text": [
      "2023-04-26 07:58:51.222415\n"
     ]
    }
   ],
   "source": [
    "path = 'C:\\Gdrive_Share\\pythonCode\\streamlit_Info\\MC_LIST_OUT.xlsx'\n",
    "time1 = os.path.getmtime(path)\n",
    "\n",
    "print(datetime.datetime.fromtimestamp(time1))"
   ]
  },
  {
   "cell_type": "code",
   "execution_count": 23,
   "id": "d92b5e39",
   "metadata": {},
   "outputs": [],
   "source": [
    "df = pd.read_excel(path)"
   ]
  },
  {
   "cell_type": "code",
   "execution_count": 27,
   "id": "8590ffa5",
   "metadata": {},
   "outputs": [],
   "source": [
    "column_list = ['현재대리점설계사조직코드', \n",
    "'현재대리점설계사조직명',\n",
    "'현재월연속가동',\n",
    "'이전월연속가동',\n",
    "'인보험실적',\n",
    "'인정실적',\n",
    "'이전월인정실적',\n",
    "'전전월인정실적',\n",
    "'실적_1주차',\n",
    "'실적_2주차',\n",
    "'실적_3주차',\n",
    "'실적_4주차',\n",
    "'실적_5주차']"
   ]
  },
  {
   "cell_type": "code",
   "execution_count": 28,
   "id": "7d4129f1",
   "metadata": {},
   "outputs": [],
   "source": [
    "df1 = df[column_list]"
   ]
  },
  {
   "cell_type": "code",
   "execution_count": 30,
   "id": "6197ddc0",
   "metadata": {},
   "outputs": [],
   "source": [
    "columns_list_mod = ['조직코드',\n",
    "'조직명',\n",
    "'연속가동',\n",
    "'전월가동',\n",
    "'인보험',\n",
    "'인정실적',\n",
    "'인정실적-1',\n",
    "'인정실적-2',\n",
    "'실적1주',\n",
    "'실적2주',\n",
    "'실적3주',\n",
    "'실적4주',\n",
    "'실적5주']"
   ]
  },
  {
   "cell_type": "code",
   "execution_count": 31,
   "id": "97e75d2a",
   "metadata": {},
   "outputs": [],
   "source": [
    "df1.columns = columns_list_mod"
   ]
  },
  {
   "cell_type": "code",
   "execution_count": 32,
   "id": "bad46e23",
   "metadata": {},
   "outputs": [
    {
     "data": {
      "text/html": [
       "<div>\n",
       "<style scoped>\n",
       "    .dataframe tbody tr th:only-of-type {\n",
       "        vertical-align: middle;\n",
       "    }\n",
       "\n",
       "    .dataframe tbody tr th {\n",
       "        vertical-align: top;\n",
       "    }\n",
       "\n",
       "    .dataframe thead th {\n",
       "        text-align: right;\n",
       "    }\n",
       "</style>\n",
       "<table border=\"1\" class=\"dataframe\">\n",
       "  <thead>\n",
       "    <tr style=\"text-align: right;\">\n",
       "      <th></th>\n",
       "      <th>조직코드</th>\n",
       "      <th>조직명</th>\n",
       "      <th>연속가동</th>\n",
       "      <th>전월가동</th>\n",
       "      <th>인보험</th>\n",
       "      <th>인정실적</th>\n",
       "      <th>인정실적-1</th>\n",
       "      <th>인정실적-2</th>\n",
       "      <th>실적1주</th>\n",
       "      <th>실적2주</th>\n",
       "      <th>실적3주</th>\n",
       "      <th>실적4주</th>\n",
       "      <th>실적5주</th>\n",
       "    </tr>\n",
       "  </thead>\n",
       "  <tbody>\n",
       "    <tr>\n",
       "      <th>0</th>\n",
       "      <td>723016377</td>\n",
       "      <td>선진우</td>\n",
       "      <td>0</td>\n",
       "      <td>0</td>\n",
       "      <td>0</td>\n",
       "      <td>0</td>\n",
       "      <td>0</td>\n",
       "      <td>0</td>\n",
       "      <td>0</td>\n",
       "      <td>0</td>\n",
       "      <td>0</td>\n",
       "      <td>0</td>\n",
       "      <td>0</td>\n",
       "    </tr>\n",
       "    <tr>\n",
       "      <th>1</th>\n",
       "      <td>722041568</td>\n",
       "      <td>오대진</td>\n",
       "      <td>0</td>\n",
       "      <td>0</td>\n",
       "      <td>25660</td>\n",
       "      <td>25660</td>\n",
       "      <td>11190</td>\n",
       "      <td>10420</td>\n",
       "      <td>25660</td>\n",
       "      <td>0</td>\n",
       "      <td>0</td>\n",
       "      <td>0</td>\n",
       "      <td>0</td>\n",
       "    </tr>\n",
       "    <tr>\n",
       "      <th>2</th>\n",
       "      <td>723004061</td>\n",
       "      <td>조민우</td>\n",
       "      <td>0</td>\n",
       "      <td>0</td>\n",
       "      <td>46710</td>\n",
       "      <td>46710</td>\n",
       "      <td>168610</td>\n",
       "      <td>0</td>\n",
       "      <td>33940</td>\n",
       "      <td>12770</td>\n",
       "      <td>0</td>\n",
       "      <td>0</td>\n",
       "      <td>0</td>\n",
       "    </tr>\n",
       "    <tr>\n",
       "      <th>3</th>\n",
       "      <td>723012092</td>\n",
       "      <td>김명환</td>\n",
       "      <td>0</td>\n",
       "      <td>0</td>\n",
       "      <td>86120</td>\n",
       "      <td>86120</td>\n",
       "      <td>0</td>\n",
       "      <td>66180</td>\n",
       "      <td>16460</td>\n",
       "      <td>22130</td>\n",
       "      <td>47530</td>\n",
       "      <td>0</td>\n",
       "      <td>0</td>\n",
       "    </tr>\n",
       "    <tr>\n",
       "      <th>4</th>\n",
       "      <td>723002061</td>\n",
       "      <td>박호진</td>\n",
       "      <td>0</td>\n",
       "      <td>0</td>\n",
       "      <td>29790</td>\n",
       "      <td>29790</td>\n",
       "      <td>50690</td>\n",
       "      <td>203430</td>\n",
       "      <td>0</td>\n",
       "      <td>13020</td>\n",
       "      <td>16770</td>\n",
       "      <td>0</td>\n",
       "      <td>0</td>\n",
       "    </tr>\n",
       "  </tbody>\n",
       "</table>\n",
       "</div>"
      ],
      "text/plain": [
       "        조직코드  조직명  연속가동  전월가동    인보험   인정실적  인정실적-1  인정실적-2   실적1주   실적2주  \\\n",
       "0  723016377  선진우     0     0      0      0       0       0      0      0   \n",
       "1  722041568  오대진     0     0  25660  25660   11190   10420  25660      0   \n",
       "2  723004061  조민우     0     0  46710  46710  168610       0  33940  12770   \n",
       "3  723012092  김명환     0     0  86120  86120       0   66180  16460  22130   \n",
       "4  723002061  박호진     0     0  29790  29790   50690  203430      0  13020   \n",
       "\n",
       "    실적3주  실적4주  실적5주  \n",
       "0      0     0     0  \n",
       "1      0     0     0  \n",
       "2      0     0     0  \n",
       "3  47530     0     0  \n",
       "4  16770     0     0  "
      ]
     },
     "execution_count": 32,
     "metadata": {},
     "output_type": "execute_result"
    }
   ],
   "source": [
    "df1.head()"
   ]
  },
  {
   "cell_type": "code",
   "execution_count": 47,
   "id": "54fc36dd",
   "metadata": {},
   "outputs": [],
   "source": [
    "\n",
    "\n",
    "df = pd.read_excel('C:\\Gdrive_Share\\Documents\\사용인별실적(1).xlsx')\n",
    "\n",
    "지점명 = 'GA2-3지점'\n",
    "\n",
    "df_1 = df[df['지점조직명']==지점명].copy()\n",
    "\n",
    "jisa_list = df_1.대리점지사명.unique()\n",
    "\n",
    "jisa_list\n",
    "\n",
    "jisa_list.sort()\n",
    "\n",
    "jisa_list"
   ]
  },
  {
   "cell_type": "code",
   "execution_count": 12,
   "id": "d19ff816",
   "metadata": {},
   "outputs": [],
   "source": [
    "import pandas as pd"
   ]
  },
  {
   "cell_type": "code",
   "execution_count": 3,
   "id": "50763333",
   "metadata": {},
   "outputs": [],
   "source": [
    "df = pd.read_excel('C:\\Gdrive_Share\\Documents\\사용인별실적(1).xlsx')"
   ]
  },
  {
   "cell_type": "code",
   "execution_count": 22,
   "id": "8658db58",
   "metadata": {},
   "outputs": [],
   "source": [
    "column_months = df.columns.tolist()\n",
    "column_months = [i for i in column_months if i[:1]==\"m\"]\n",
    "column_months.sort(reverse=True)\n",
    "column_months = column_months[:5]"
   ]
  },
  {
   "cell_type": "code",
   "execution_count": 27,
   "id": "a254d904",
   "metadata": {},
   "outputs": [],
   "source": [
    "테스트 = ['조직코드','조직명'] + column_months"
   ]
  },
  {
   "cell_type": "code",
   "execution_count": 28,
   "id": "1120c0a7",
   "metadata": {},
   "outputs": [
    {
     "data": {
      "text/plain": [
       "['조직코드', '조직명', 'm202303', 'm202302', 'm202301', 'm202212', 'm202211']"
      ]
     },
     "execution_count": 28,
     "metadata": {},
     "output_type": "execute_result"
    }
   ],
   "source": [
    "테스트"
   ]
  }
 ],
 "metadata": {
  "kernelspec": {
   "display_name": "Python 3 (ipykernel)",
   "language": "python",
   "name": "python3"
  },
  "language_info": {
   "codemirror_mode": {
    "name": "ipython",
    "version": 3
   },
   "file_extension": ".py",
   "mimetype": "text/x-python",
   "name": "python",
   "nbconvert_exporter": "python",
   "pygments_lexer": "ipython3",
   "version": "3.9.15"
  }
 },
 "nbformat": 4,
 "nbformat_minor": 5
}
