{
 "cells": [
  {
   "cell_type": "code",
   "execution_count": 47,
   "id": "54fc36dd",
   "metadata": {},
   "outputs": [],
   "source": [
    "\n",
    "\n",
    "df = pd.read_excel('C:\\Gdrive_Share\\Documents\\사용인별실적(1).xlsx')\n",
    "\n",
    "지점명 = 'GA2-3지점'\n",
    "\n",
    "df_1 = df[df['지점조직명']==지점명].copy()\n",
    "\n",
    "jisa_list = df_1.대리점지사명.unique()\n",
    "\n",
    "jisa_list\n",
    "\n",
    "jisa_list.sort()\n",
    "\n",
    "jisa_list"
   ]
  },
  {
   "cell_type": "code",
   "execution_count": 2,
   "id": "d19ff816",
   "metadata": {},
   "outputs": [],
   "source": [
    "import pandas as pd"
   ]
  },
  {
   "cell_type": "code",
   "execution_count": 3,
   "id": "50763333",
   "metadata": {},
   "outputs": [],
   "source": [
    "df = pd.read_excel('C:\\Gdrive_Share\\Documents\\사용인별실적(1).xlsx')"
   ]
  },
  {
   "cell_type": "code",
   "execution_count": 22,
   "id": "8658db58",
   "metadata": {},
   "outputs": [],
   "source": [
    "column_months = df.columns.tolist()\n",
    "column_months = [i for i in column_months if i[:1]==\"m\"]\n",
    "column_months.sort(reverse=True)\n",
    "column_months = column_months[:5]"
   ]
  },
  {
   "cell_type": "code",
   "execution_count": 27,
   "id": "a254d904",
   "metadata": {},
   "outputs": [],
   "source": [
    "테스트 = ['조직코드','조직명'] + column_months"
   ]
  },
  {
   "cell_type": "code",
   "execution_count": 28,
   "id": "1120c0a7",
   "metadata": {},
   "outputs": [
    {
     "data": {
      "text/plain": [
       "['조직코드', '조직명', 'm202303', 'm202302', 'm202301', 'm202212', 'm202211']"
      ]
     },
     "execution_count": 28,
     "metadata": {},
     "output_type": "execute_result"
    }
   ],
   "source": [
    "테스트"
   ]
  }
 ],
 "metadata": {
  "kernelspec": {
   "display_name": "Python 3 (ipykernel)",
   "language": "python",
   "name": "python3"
  },
  "language_info": {
   "codemirror_mode": {
    "name": "ipython",
    "version": 3
   },
   "file_extension": ".py",
   "mimetype": "text/x-python",
   "name": "python",
   "nbconvert_exporter": "python",
   "pygments_lexer": "ipython3",
   "version": "3.9.15"
  }
 },
 "nbformat": 4,
 "nbformat_minor": 5
}
